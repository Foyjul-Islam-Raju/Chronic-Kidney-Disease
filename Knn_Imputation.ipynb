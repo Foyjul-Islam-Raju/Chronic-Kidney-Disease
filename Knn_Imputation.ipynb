{
  "nbformat": 4,
  "nbformat_minor": 0,
  "metadata": {
    "colab": {
      "name": "KnnImputation.ipynb",
      "provenance": []
    },
    "kernelspec": {
      "name": "python3",
      "display_name": "Python 3"
    },
    "language_info": {
      "name": "python"
    }
  },
  "cells": [
    {
      "cell_type": "code",
      "metadata": {
        "colab": {
          "base_uri": "https://localhost:8080/",
          "height": 162
        },
        "id": "vgrRpw19HYYC",
        "outputId": "f408fabc-04ae-4ec1-af9d-8020f1625539"
      },
      "source": [
        "import pandas as pd #Data Manioulation\n",
        "\n",
        "url = 'https://raw.githubusercontent.com/Foyjul-Islam-Raju/Chronic-Kidney-Disease/main/ckd.csv'\n",
        "dataframe = pd.read_csv(url)\n",
        "dataframe.head(3)"
      ],
      "execution_count": 1,
      "outputs": [
        {
          "output_type": "execute_result",
          "data": {
            "text/html": [
              "<div>\n",
              "<style scoped>\n",
              "    .dataframe tbody tr th:only-of-type {\n",
              "        vertical-align: middle;\n",
              "    }\n",
              "\n",
              "    .dataframe tbody tr th {\n",
              "        vertical-align: top;\n",
              "    }\n",
              "\n",
              "    .dataframe thead th {\n",
              "        text-align: right;\n",
              "    }\n",
              "</style>\n",
              "<table border=\"1\" class=\"dataframe\">\n",
              "  <thead>\n",
              "    <tr style=\"text-align: right;\">\n",
              "      <th></th>\n",
              "      <th>id</th>\n",
              "      <th>age</th>\n",
              "      <th>bp</th>\n",
              "      <th>sg</th>\n",
              "      <th>al</th>\n",
              "      <th>su</th>\n",
              "      <th>rbc</th>\n",
              "      <th>pc</th>\n",
              "      <th>pcc</th>\n",
              "      <th>ba</th>\n",
              "      <th>bgr</th>\n",
              "      <th>bu</th>\n",
              "      <th>sc</th>\n",
              "      <th>sod</th>\n",
              "      <th>pot</th>\n",
              "      <th>hemo</th>\n",
              "      <th>pcv</th>\n",
              "      <th>wc</th>\n",
              "      <th>rc</th>\n",
              "      <th>htn</th>\n",
              "      <th>dm</th>\n",
              "      <th>cad</th>\n",
              "      <th>appet</th>\n",
              "      <th>pe</th>\n",
              "      <th>ane</th>\n",
              "      <th>classification</th>\n",
              "    </tr>\n",
              "  </thead>\n",
              "  <tbody>\n",
              "    <tr>\n",
              "      <th>0</th>\n",
              "      <td>0</td>\n",
              "      <td>48.0</td>\n",
              "      <td>80.0</td>\n",
              "      <td>1.02</td>\n",
              "      <td>1.0</td>\n",
              "      <td>0.0</td>\n",
              "      <td>NaN</td>\n",
              "      <td>normal</td>\n",
              "      <td>notpresent</td>\n",
              "      <td>notpresent</td>\n",
              "      <td>121.0</td>\n",
              "      <td>36.0</td>\n",
              "      <td>1.2</td>\n",
              "      <td>NaN</td>\n",
              "      <td>NaN</td>\n",
              "      <td>15.4</td>\n",
              "      <td>44</td>\n",
              "      <td>7800</td>\n",
              "      <td>5.2</td>\n",
              "      <td>yes</td>\n",
              "      <td>yes</td>\n",
              "      <td>no</td>\n",
              "      <td>good</td>\n",
              "      <td>no</td>\n",
              "      <td>no</td>\n",
              "      <td>ckd</td>\n",
              "    </tr>\n",
              "    <tr>\n",
              "      <th>1</th>\n",
              "      <td>1</td>\n",
              "      <td>7.0</td>\n",
              "      <td>50.0</td>\n",
              "      <td>1.02</td>\n",
              "      <td>4.0</td>\n",
              "      <td>0.0</td>\n",
              "      <td>NaN</td>\n",
              "      <td>normal</td>\n",
              "      <td>notpresent</td>\n",
              "      <td>notpresent</td>\n",
              "      <td>NaN</td>\n",
              "      <td>18.0</td>\n",
              "      <td>0.8</td>\n",
              "      <td>NaN</td>\n",
              "      <td>NaN</td>\n",
              "      <td>11.3</td>\n",
              "      <td>38</td>\n",
              "      <td>6000</td>\n",
              "      <td>NaN</td>\n",
              "      <td>no</td>\n",
              "      <td>no</td>\n",
              "      <td>no</td>\n",
              "      <td>good</td>\n",
              "      <td>no</td>\n",
              "      <td>no</td>\n",
              "      <td>ckd</td>\n",
              "    </tr>\n",
              "    <tr>\n",
              "      <th>2</th>\n",
              "      <td>2</td>\n",
              "      <td>62.0</td>\n",
              "      <td>80.0</td>\n",
              "      <td>1.01</td>\n",
              "      <td>2.0</td>\n",
              "      <td>3.0</td>\n",
              "      <td>normal</td>\n",
              "      <td>normal</td>\n",
              "      <td>notpresent</td>\n",
              "      <td>notpresent</td>\n",
              "      <td>423.0</td>\n",
              "      <td>53.0</td>\n",
              "      <td>1.8</td>\n",
              "      <td>NaN</td>\n",
              "      <td>NaN</td>\n",
              "      <td>9.6</td>\n",
              "      <td>31</td>\n",
              "      <td>7500</td>\n",
              "      <td>NaN</td>\n",
              "      <td>no</td>\n",
              "      <td>yes</td>\n",
              "      <td>no</td>\n",
              "      <td>poor</td>\n",
              "      <td>no</td>\n",
              "      <td>yes</td>\n",
              "      <td>ckd</td>\n",
              "    </tr>\n",
              "  </tbody>\n",
              "</table>\n",
              "</div>"
            ],
            "text/plain": [
              "   id   age    bp    sg   al   su  ...   dm cad appet  pe  ane  classification\n",
              "0   0  48.0  80.0  1.02  1.0  0.0  ...  yes  no  good  no   no             ckd\n",
              "1   1   7.0  50.0  1.02  4.0  0.0  ...   no  no  good  no   no             ckd\n",
              "2   2  62.0  80.0  1.01  2.0  3.0  ...  yes  no  poor  no  yes             ckd\n",
              "\n",
              "[3 rows x 26 columns]"
            ]
          },
          "metadata": {
            "tags": []
          },
          "execution_count": 1
        }
      ]
    },
    {
      "cell_type": "code",
      "metadata": {
        "colab": {
          "base_uri": "https://localhost:8080/"
        },
        "id": "WMs4JVh-MEfG",
        "outputId": "0bb03f28-7012-487f-d26d-9531895cf87e"
      },
      "source": [
        "dataframe.isnull().sum()"
      ],
      "execution_count": 2,
      "outputs": [
        {
          "output_type": "execute_result",
          "data": {
            "text/plain": [
              "id                  0\n",
              "age                 9\n",
              "bp                 12\n",
              "sg                 47\n",
              "al                 46\n",
              "su                 49\n",
              "rbc               152\n",
              "pc                 65\n",
              "pcc                 4\n",
              "ba                  4\n",
              "bgr                44\n",
              "bu                 19\n",
              "sc                 17\n",
              "sod                87\n",
              "pot                88\n",
              "hemo               52\n",
              "pcv                70\n",
              "wc                105\n",
              "rc                130\n",
              "htn                 2\n",
              "dm                  2\n",
              "cad                 2\n",
              "appet               1\n",
              "pe                  1\n",
              "ane                 1\n",
              "classification      0\n",
              "dtype: int64"
            ]
          },
          "metadata": {
            "tags": []
          },
          "execution_count": 2
        }
      ]
    },
    {
      "cell_type": "code",
      "metadata": {
        "colab": {
          "base_uri": "https://localhost:8080/"
        },
        "id": "RHyRPfJeMBVH",
        "outputId": "e09618de-6797-4aa2-b067-2f77c3b685f6"
      },
      "source": [
        "dataframe.dtypes"
      ],
      "execution_count": 3,
      "outputs": [
        {
          "output_type": "execute_result",
          "data": {
            "text/plain": [
              "id                  int64\n",
              "age               float64\n",
              "bp                float64\n",
              "sg                float64\n",
              "al                float64\n",
              "su                float64\n",
              "rbc                object\n",
              "pc                 object\n",
              "pcc                object\n",
              "ba                 object\n",
              "bgr               float64\n",
              "bu                float64\n",
              "sc                float64\n",
              "sod               float64\n",
              "pot               float64\n",
              "hemo              float64\n",
              "pcv                object\n",
              "wc                 object\n",
              "rc                 object\n",
              "htn                object\n",
              "dm                 object\n",
              "cad                object\n",
              "appet              object\n",
              "pe                 object\n",
              "ane                object\n",
              "classification     object\n",
              "dtype: object"
            ]
          },
          "metadata": {
            "tags": []
          },
          "execution_count": 3
        }
      ]
    },
    {
      "cell_type": "code",
      "metadata": {
        "colab": {
          "base_uri": "https://localhost:8080/",
          "height": 350
        },
        "id": "qhWQcd8QHkRB",
        "outputId": "b775a97f-80c3-4e5a-ffbb-9afc960ba38b"
      },
      "source": [
        "import seaborn as sns\n",
        "ImpDf = dataframe.copy()\n",
        "ImpDf.drop(ImpDf.index[ImpDf[\"classification\"]==\"ckd\\t\"], inplace = True)\n",
        "sns.countplot(\"classification\", data = ImpDf)"
      ],
      "execution_count": 4,
      "outputs": [
        {
          "output_type": "stream",
          "text": [
            "/usr/local/lib/python3.7/dist-packages/seaborn/_decorators.py:43: FutureWarning: Pass the following variable as a keyword arg: x. From version 0.12, the only valid positional argument will be `data`, and passing other arguments without an explicit keyword will result in an error or misinterpretation.\n",
            "  FutureWarning\n"
          ],
          "name": "stderr"
        },
        {
          "output_type": "execute_result",
          "data": {
            "text/plain": [
              "<matplotlib.axes._subplots.AxesSubplot at 0x7fc9fa675b10>"
            ]
          },
          "metadata": {
            "tags": []
          },
          "execution_count": 4
        },
        {
          "output_type": "display_data",
          "data": {
            "image/png": "[encoded data removed]",
            "text/plain": [
              "<Figure size 432x288 with 1 Axes>"
            ]
          },
          "metadata": {
            "tags": [],
            "needs_background": "light"
          }
        }
      ]
    },
    {
      "cell_type": "code",
      "metadata": {
        "id": "L8FiTi6cJB3T"
      },
      "source": [
        "ImpDf.shape"
      ],
      "execution_count": null,
      "outputs": []
    },
    {
      "cell_type": "code",
      "metadata": {
        "id": "FXR9dPU4KsBp"
      },
      "source": [
        "#Converting all datatype into float32\n",
        "ImpDf = pd.DataFrame({col: ImpDf[col].astype('category').cat.codes.astype('float32') for col in ImpDf}, index=ImpDf.index)\n",
        "print(ImpDf.dtypes)"
      ],
      "execution_count": null,
      "outputs": []
    },
    {
      "cell_type": "code",
      "metadata": {
        "id": "S7zcTUqsbpsD"
      },
      "source": [
        "#Dividing Features and Label\n",
        "X, y = ImpDf.drop('classification', axis = 1),ImpDf['classification']"
      ],
      "execution_count": 9,
      "outputs": []
    },
    {
      "cell_type": "markdown",
      "metadata": {
        "id": "ke9S_aksdVF7"
      },
      "source": [
        "# Imputation and Training with ML Pipeline **(Cross Validation)**"
      ]
    },
    {
      "cell_type": "markdown",
      "metadata": {
        "id": "jKK0z5mbcS96"
      },
      "source": [
        "**Pipeline of KNN Inputation With ML Model**"
      ]
    },
    {
      "cell_type": "code",
      "metadata": {
        "id": "9i-KMcbEIDpf"
      },
      "source": [
        "# knn imputation transform for the dataset\n",
        "from sklearn.impute import KNNImputer\n",
        "\n",
        "#Random Forest model\n",
        "from sklearn.ensemble import RandomForestClassifier\n",
        "\n",
        "#Pipeline\n",
        "from sklearn.pipeline import Pipeline\n",
        "\n",
        "\n",
        "\n",
        "# define modeling pipeline\n",
        "model = RandomForestClassifier()\n",
        "imputer = KNNImputer()\n",
        "\n",
        "pipeline = Pipeline(steps=[('i', imputer), ('m', model)])"
      ],
      "execution_count": 10,
      "outputs": []
    },
    {
      "cell_type": "markdown",
      "metadata": {
        "id": "iJaOthTKf36A"
      },
      "source": [
        "**Implementation**"
      ]
    },
    {
      "cell_type": "code",
      "metadata": {
        "id": "FJ8YPY58LFre"
      },
      "source": [
        "# from numpy import mean\n",
        "# from numpy import std\n",
        "\n",
        "# #Cross Validation\n",
        "# from sklearn.model_selection import cross_val_score\n",
        "# from sklearn.model_selection import RepeatedStratifiedKFold\n",
        "\n",
        "# # define model evaluation\n",
        "# cv = RepeatedStratifiedKFold(n_splits=10, n_repeats=3, random_state=1)\n",
        "# # evaluate model\n",
        "# scores = cross_val_score(pipeline, X, y, scoring='accuracy', cv=cv, n_jobs=-1, error_score='raise')\n",
        "# print('Mean Accuracy: %.3f (%.3f)' % (mean(scores), std(scores)))"
      ],
      "execution_count": 11,
      "outputs": []
    },
    {
      "cell_type": "markdown",
      "metadata": {
        "id": "Udfw8hU3dR2w"
      },
      "source": [
        "# KNN Imputation with Different ML Algorithm **(Train-Test-Split)**"
      ]
    },
    {
      "cell_type": "code",
      "metadata": {
        "id": "gZ_mruJ-gmkc"
      },
      "source": [
        "# fit on the dataset\n",
        "imputer.fit(X)\n",
        "# X.head(10)\n",
        "# X.isnull().sum()\n",
        "# transform the dataset\n",
        "Xtrans = imputer.transform(X)\n"
      ],
      "execution_count": 12,
      "outputs": []
    },
    {
      "cell_type": "code",
      "metadata": {
        "id": "NAXjVi-7lzNN"
      },
      "source": [
        "import numpy as np\n",
        "np.array(Xtrans)\n",
        "#Xtrans.isnull().sum()"
      ],
      "execution_count": null,
      "outputs": []
    },
    {
      "cell_type": "code",
      "metadata": {
        "id": "7g1eW63eHvfJ"
      },
      "source": [
        "#Splitting data into train test \n",
        "from sklearn.model_selection import train_test_split\n",
        "X_train, X_test, y_train, y_test = train_test_split(X,y, test_size = 0.33, random_state = 15)\n"
      ],
      "execution_count": 15,
      "outputs": []
    },
    {
      "cell_type": "code",
      "metadata": {
        "id": "vIq7B33TQnaO"
      },
      "source": [
        "#Importing Classification Models\n",
        "from sklearn.naive_bayes import MultinomialNB,GaussianNB\n",
        "from sklearn.svm import SVC\n",
        "from sklearn.linear_model import LogisticRegression\n",
        "from sklearn.tree import DecisionTreeClassifier\n",
        "from sklearn.ensemble import RandomForestClassifier\n",
        "from sklearn.neighbors import KNeighborsClassifier"
      ],
      "execution_count": 16,
      "outputs": []
    },
    {
      "cell_type": "code",
      "metadata": {
        "colab": {
          "base_uri": "https://localhost:8080/"
        },
        "id": "_g6wGNK4Qn0n",
        "outputId": "c9ce58d9-7b9b-4eb8-a0b5-36e8619cc8c2"
      },
      "source": [
        "'''                             MODEL BUILDING                             '''\n",
        "SVCmodel = SVC().fit(X_train, y_train)\n",
        "# MNBmodel = MultinomialNB().fit(X_train, y_train)\n",
        "GNBmodel = GaussianNB().fit(X_train,y_train)\n",
        "DTmodel = DecisionTreeClassifier().fit(X_train, y_train)\n",
        "RFmodel = RandomForestClassifier().fit(X_train, y_train)\n",
        "LRmodel = LogisticRegression().fit(X_train, y_train)\n",
        "KNNmodel = KNeighborsClassifier(n_neighbors = 5).fit(X_train, y_train)"
      ],
      "execution_count": 17,
      "outputs": [
        {
          "output_type": "stream",
          "text": [
            "/usr/local/lib/python3.7/dist-packages/sklearn/linear_model/_logistic.py:940: ConvergenceWarning: lbfgs failed to converge (status=1):\n",
            "STOP: TOTAL NO. of ITERATIONS REACHED LIMIT.\n",
            "\n",
            "Increase the number of iterations (max_iter) or scale the data as shown in:\n",
            "    https://scikit-learn.org/stable/modules/preprocessing.html\n",
            "Please also refer to the documentation for alternative solver options:\n",
            "    https://scikit-learn.org/stable/modules/linear_model.html#logistic-regression\n",
            "  extra_warning_msg=_LOGISTIC_SOLVER_CONVERGENCE_MSG)\n"
          ],
          "name": "stderr"
        }
      ]
    },
    {
      "cell_type": "code",
      "metadata": {
        "colab": {
          "base_uri": "https://localhost:8080/"
        },
        "id": "eP8CQGjERhOh",
        "outputId": "7fc2de38-3eeb-4374-e985-5d7a2efb07b0"
      },
      "source": [
        "from sklearn.metrics import accuracy_score, confusion_matrix, classification_report\n",
        "\n",
        "print(\">>>>>>>>>>>>>>     Support Vector Machine     <<<<<<<<<<<<\")\n",
        "pred = SVCmodel.predict(X_test)\n",
        "score = accuracy_score(y_test,pred)\n",
        "print(score)\n",
        "conf = confusion_matrix(y_test,pred)\n",
        "print(conf)\n",
        "report = classification_report(y_test,pred)\n",
        "print(report)\n",
        "print(\" \")\n",
        "\n",
        "# print(\">>>>>>>>>>>>>>     Multinomial Naive Bayes     <<<<<<<<<<<<\")\n",
        "# pred = MNBmodel.predict(X_test)\n",
        "# score = accuracy_score(y_test,pred)\n",
        "# print(score)\n",
        "# conf = confusion_matrix(y_test,pred)\n",
        "# print(conf)\n",
        "# report = classification_report(y_test,pred)\n",
        "# print(report)\n",
        "# print(\" \")\n",
        "\n",
        "# print(\">>>>>>>>>>>>>>     Gaussian Naive Bayes     <<<<<<<<<<<<\")\n",
        "# pred = GNBmodel.predict(X_test)\n",
        "# score = accuracy_score(y_test,pred)\n",
        "# print(score)\n",
        "# conf = confusion_matrix(y_test,pred)\n",
        "# print(conf)\n",
        "# report = classification_report(y_test,pred)\n",
        "# print(report)\n",
        "# print(\" \")\n",
        "\n",
        "print(\">>>>>>>>>>>>>>     Decission Tree      <<<<<<<<<<<<\")\n",
        "pred = DTmodel.predict(X_test)\n",
        "score = accuracy_score(y_test,pred)\n",
        "print(score)\n",
        "conf = confusion_matrix(y_test,pred)\n",
        "print(conf)\n",
        "report = classification_report(y_test,pred)\n",
        "print(report)\n",
        "print(\" \")\n",
        "\n",
        "print(\">>>>>>>>>>>>>>     Random Forest     <<<<<<<<<<<<\")\n",
        "pred = RFmodel.predict(X_test)\n",
        "score = accuracy_score(y_test,pred)\n",
        "print(score)\n",
        "conf = confusion_matrix(y_test,pred)\n",
        "print(conf)\n",
        "report = classification_report(y_test,pred)\n",
        "print(report)\n",
        "print(\" \")\n",
        "print(\">>>>>>>>>>>>>>     Logistic Regression     <<<<<<<<<<<<\")\n",
        "pred = LRmodel.predict(X_test)\n",
        "score = accuracy_score(y_test,pred)\n",
        "print(score)\n",
        "conf = confusion_matrix(y_test,pred)\n",
        "print(conf)\n",
        "report = classification_report(y_test,pred)\n",
        "print(report)\n",
        "print(\" \")"
      ],
      "execution_count": 18,
      "outputs": [
        {
          "output_type": "stream",
          "text": [
            ">>>>>>>>>>>>>>     Support Vector Machine     <<<<<<<<<<<<\n",
            "1.0\n",
            "[[78  0]\n",
            " [ 0 54]]\n",
            "              precision    recall  f1-score   support\n",
            "\n",
            "         0.0       1.00      1.00      1.00        78\n",
            "         1.0       1.00      1.00      1.00        54\n",
            "\n",
            "    accuracy                           1.00       132\n",
            "   macro avg       1.00      1.00      1.00       132\n",
            "weighted avg       1.00      1.00      1.00       132\n",
            "\n",
            " \n",
            ">>>>>>>>>>>>>>     Decission Tree      <<<<<<<<<<<<\n",
            "1.0\n",
            "[[78  0]\n",
            " [ 0 54]]\n",
            "              precision    recall  f1-score   support\n",
            "\n",
            "         0.0       1.00      1.00      1.00        78\n",
            "         1.0       1.00      1.00      1.00        54\n",
            "\n",
            "    accuracy                           1.00       132\n",
            "   macro avg       1.00      1.00      1.00       132\n",
            "weighted avg       1.00      1.00      1.00       132\n",
            "\n",
            " \n",
            ">>>>>>>>>>>>>>     Random Forest     <<<<<<<<<<<<\n",
            "1.0\n",
            "[[78  0]\n",
            " [ 0 54]]\n",
            "              precision    recall  f1-score   support\n",
            "\n",
            "         0.0       1.00      1.00      1.00        78\n",
            "         1.0       1.00      1.00      1.00        54\n",
            "\n",
            "    accuracy                           1.00       132\n",
            "   macro avg       1.00      1.00      1.00       132\n",
            "weighted avg       1.00      1.00      1.00       132\n",
            "\n",
            " \n",
            ">>>>>>>>>>>>>>     Logistic Regression     <<<<<<<<<<<<\n",
            "0.9696969696969697\n",
            "[[74  4]\n",
            " [ 0 54]]\n",
            "              precision    recall  f1-score   support\n",
            "\n",
            "         0.0       1.00      0.95      0.97        78\n",
            "         1.0       0.93      1.00      0.96        54\n",
            "\n",
            "    accuracy                           0.97       132\n",
            "   macro avg       0.97      0.97      0.97       132\n",
            "weighted avg       0.97      0.97      0.97       132\n",
            "\n",
            " \n"
          ],
          "name": "stdout"
        }
      ]
    },
    {
      "cell_type": "code",
      "metadata": {
        "colab": {
          "base_uri": "https://localhost:8080/"
        },
        "id": "AFhrHwFtSJ4s",
        "outputId": "0fa3ee71-ffd2-4e6b-f669-e4bed7994618"
      },
      "source": [
        "print(\">>>>>>>>>>>>>>     Gaussian Naive Bayes     <<<<<<<<<<<<\")\n",
        "pred = GNBmodel.predict(X_test)\n",
        "score = accuracy_score(y_test,pred)\n",
        "print(score)\n",
        "conf = confusion_matrix(y_test,pred)\n",
        "print(conf)\n",
        "report = classification_report(y_test,pred)\n",
        "print(report)\n",
        "print(\" \")"
      ],
      "execution_count": 19,
      "outputs": [
        {
          "output_type": "stream",
          "text": [
            ">>>>>>>>>>>>>>     Gaussian Naive Bayes     <<<<<<<<<<<<\n",
            "0.9393939393939394\n",
            "[[76  2]\n",
            " [ 6 48]]\n",
            "              precision    recall  f1-score   support\n",
            "\n",
            "         0.0       0.93      0.97      0.95        78\n",
            "         1.0       0.96      0.89      0.92        54\n",
            "\n",
            "    accuracy                           0.94       132\n",
            "   macro avg       0.94      0.93      0.94       132\n",
            "weighted avg       0.94      0.94      0.94       132\n",
            "\n",
            " \n"
          ],
          "name": "stdout"
        }
      ]
    }
  ]
}